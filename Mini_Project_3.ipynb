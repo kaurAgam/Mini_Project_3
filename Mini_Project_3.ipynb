{
  "nbformat": 4,
  "nbformat_minor": 0,
  "metadata": {
    "colab": {
      "provenance": [],
      "authorship_tag": "ABX9TyMvOk3/TFblRW88518fwF/Y",
      "include_colab_link": true
    },
    "kernelspec": {
      "name": "python3",
      "display_name": "Python 3"
    },
    "language_info": {
      "name": "python"
    }
  },
  "cells": [
    {
      "cell_type": "markdown",
      "metadata": {
        "id": "view-in-github",
        "colab_type": "text"
      },
      "source": [
        "<a href=\"https://colab.research.google.com/github/kaurAgam/Mini_Project_3/blob/main/Mini_Project_3.ipynb\" target=\"_parent\"><img src=\"https://colab.research.google.com/assets/colab-badge.svg\" alt=\"Open In Colab\"/></a>"
      ]
    },
    {
      "cell_type": "code",
      "execution_count": 7,
      "metadata": {
        "colab": {
          "base_uri": "https://localhost:8080/"
        },
        "id": "gwJD0hu3x8nU",
        "outputId": "86da8b3a-6a31-4558-818c-cb8a02d8e1fe"
      },
      "outputs": [
        {
          "output_type": "stream",
          "name": "stdout",
          "text": [
            "Lower Limit: 200\n",
            "Upper Limit250\n",
            "('p1', 'p13', 'p2', 'p5', 'p6', 'p7')  -> 210\n",
            "('p1', 'p13', 'p14', 'p6', 'p8')  -> 200\n",
            "('p12', 'p13', 'p14', 'p3')  -> 210\n",
            "('p1', 'p2', 'p4', 'p5', 'p6', 'p7', 'p9')  -> 220\n",
            "('p11', 'p2', 'p3', 'p4', 'p8', 'p9')  -> 220\n",
            "('p10', 'p11', 'p3', 'p5', 'p6', 'p8')  -> 250\n",
            "('p1', 'p10', 'p13', 'p4', 'p5', 'p6')  -> 230\n",
            "('p14', 'p2', 'p4', 'p5', 'p6', 'p8', 'p9')  -> 245\n",
            "('p1', 'p10', 'p3', 'p4', 'p6', 'p7', 'p8')  -> 240\n",
            "('p1', 'p14', 'p5', 'p6', 'p8', 'p9')  -> 215\n",
            "('p12', 'p14', 'p5', 'p9')  -> 205\n",
            "('p1', 'p11', 'p12', 'p2', 'p3', 'p8')  -> 225\n",
            "('p1', 'p10', 'p14', 'p2', 'p3', 'p4', 'p5', 'p6')  -> 240\n",
            "('p1', 'p10', 'p14', 'p3', 'p6', 'p9')  -> 225\n",
            "('p10', 'p11', 'p7', 'p9')  -> 230\n",
            "('p10', 'p12', 'p2', 'p8', 'p9')  -> 245\n",
            "('p1', 'p12', 'p14', 'p2', 'p7', 'p9')  -> 250\n",
            "('p10', 'p11', 'p13', 'p3')  -> 215\n",
            "('p11', 'p14', 'p2', 'p4', 'p6', 'p8')  -> 225\n",
            "('p11', 'p13', 'p3', 'p4', 'p5', 'p8')  -> 250\n",
            "('p11', 'p2', 'p3', 'p6', 'p7', 'p9')  -> 240\n",
            "('p13', 'p2', 'p3', 'p5', 'p8', 'p9')  -> 230\n",
            "('p1', 'p10', 'p11', 'p2', 'p8', 'p9')  -> 245\n",
            "('p10', 'p12', 'p2', 'p4', 'p5')  -> 205\n",
            "('p1', 'p3', 'p5', 'p7', 'p8', 'p9')  -> 205\n",
            "('p1', 'p11', 'p13', 'p3', 'p7')  -> 215\n",
            "('p1', 'p12', 'p13', 'p5', 'p7')  -> 235\n",
            "('p1', 'p12', 'p13', 'p7')  -> 205\n",
            "('p1', 'p12', 'p2', 'p3', 'p7', 'p9')  -> 225\n",
            "('p1', 'p10', 'p11', 'p6', 'p7')  -> 220\n",
            "('p10', 'p11', 'p5', 'p7')  -> 205\n",
            "('p10', 'p13', 'p4', 'p5', 'p8')  -> 225\n",
            "('p10', 'p12', 'p5', 'p7')  -> 215\n",
            "('p10', 'p12', 'p8', 'p9')  -> 230\n",
            "('p13', 'p2', 'p3', 'p4', 'p5', 'p8')  -> 200\n",
            "('p10', 'p13', 'p2', 'p4', 'p6')  -> 205\n",
            "('p12', 'p14', 'p4', 'p5', 'p7')  -> 225\n",
            "('p11', 'p13', 'p14', 'p3', 'p5')  -> 230\n",
            "('p13', 'p14', 'p4', 'p6', 'p9')  -> 230\n",
            "('p11', 'p13', 'p5', 'p8')  -> 205\n",
            "('p10', 'p13', 'p3', 'p4', 'p6')  -> 210\n",
            "('p13', 'p7', 'p8', 'p9')  -> 215\n",
            "('p11', 'p12', 'p2', 'p4', 'p5')  -> 210\n",
            "('p11', 'p14', 'p2', 'p3', 'p4', 'p5', 'p8')  -> 240\n",
            "('p1', 'p12', 'p14', 'p2', 'p3', 'p6')  -> 200\n",
            "('p1', 'p11', 'p12', 'p14', 'p6')  -> 230\n",
            "('p10', 'p11', 'p2', 'p3', 'p6', 'p7')  -> 245\n",
            "('p11', 'p14', 'p4', 'p5', 'p6', 'p7')  -> 250\n",
            "('p10', 'p14', 'p3', 'p5', 'p8', 'p9')  -> 250\n",
            "('p1', 'p10', 'p12', 'p14', 'p8')  -> 230\n",
            "('p11', 'p13', 'p14', 'p2', 'p3')  -> 215\n",
            "('p1', 'p11', 'p14', 'p3', 'p4', 'p6')  -> 200\n",
            "('p1', 'p14', 'p2', 'p5', 'p7', 'p8', 'p9')  -> 245\n",
            "('p1', 'p12', 'p2', 'p5', 'p6', 'p8')  -> 205\n",
            "('p1', 'p10', 'p12', 'p9')  -> 200\n",
            "('p1', 'p10', 'p12', 'p13')  -> 215\n",
            "('p1', 'p11', 'p13', 'p7', 'p8')  -> 235\n",
            "('p10', 'p12', 'p13', 'p8')  -> 245\n",
            "('p1', 'p10', 'p11', 'p13', 'p14')  -> 250\n",
            "('p10', 'p12', 'p4', 'p6', 'p9')  -> 250\n",
            "('p12', 'p5', 'p8', 'p9')  -> 200\n",
            "('p10', 'p11', 'p6', 'p7')  -> 210\n",
            "('p10', 'p11', 'p14', 'p8')  -> 210\n",
            "('p1', 'p12', 'p14', 'p5', 'p6', 'p7')  -> 245\n",
            "('p11', 'p14', 'p6', 'p8', 'p9')  -> 240\n",
            "('p10', 'p14', 'p3', 'p4', 'p9')  -> 205\n",
            "('p10', 'p12', 'p14', 'p8')  -> 220\n",
            "('p11', 'p12', 'p2', 'p3', 'p5', 'p6')  -> 240\n",
            "('p10', 'p6', 'p7', 'p9')  -> 200\n",
            "('p10', 'p14', 'p5', 'p8', 'p9')  -> 230\n",
            "('p1', 'p10', 'p12', 'p13', 'p4')  -> 240\n",
            "('p1', 'p10', 'p14', 'p2', 'p5', 'p6', 'p9')  -> 250\n",
            "('p1', 'p11', 'p2', 'p4', 'p6', 'p7')  -> 200\n",
            "('p13', 'p3', 'p5', 'p6', 'p8', 'p9')  -> 250\n",
            "('p10', 'p14', 'p4', 'p6', 'p8')  -> 205\n",
            "('p11', 'p12', 'p2', 'p5', 'p7')  -> 235\n",
            "('p13', 'p14', 'p2', 'p6', 'p9')  -> 220\n",
            "('p1', 'p13', 'p14', 'p4', 'p5', 'p7')  -> 230\n",
            "('p10', 'p11', 'p13', 'p4', 'p5')  -> 250\n",
            "('p13', 'p4', 'p6', 'p7', 'p9')  -> 235\n",
            "('p1', 'p10', 'p14', 'p2', 'p3', 'p5', 'p9')  -> 235\n",
            "('p1', 'p13', 'p14', 'p5', 'p6', 'p8')  -> 230\n",
            "('p1', 'p10', 'p13', 'p2', 'p5', 'p6')  -> 220\n",
            "('p1', 'p10', 'p2', 'p4', 'p7', 'p9')  -> 215\n",
            "('p1', 'p11', 'p13', 'p3', 'p4', 'p6')  -> 225\n",
            "('p1', 'p12', 'p13', 'p3', 'p6')  -> 210\n",
            "\n",
            "Total Sets:  86 \n",
            "\n"
          ]
        }
      ],
      "source": [
        "import random as r\n",
        "\n",
        "ProductList = {'p1':10, 'p2':15, 'p3':20, 'p4':25, 'p5':30, 'p6':35, 'p7':50, 'p8':40, 'p9':55, 'p10':60, 'p11':65, 'p12':75, 'p13':70, 'p14':45}\n",
        "\n",
        "LB          = int(input(\"Lower Limit: \"))\n",
        "UB          = int(input(\"Upper Limit\"))\n",
        "ResultList  = set()   \n",
        "Iterations  = 1000    \n",
        "\n",
        "for i in range(Iterations):\n",
        "\n",
        "    SetSize = r.randint(2, len(ProductList)-1)\n",
        "\n",
        "    ComboList = r.sample(list(ProductList.keys()),SetSize)\n",
        "    ComboList.sort()\n",
        "\n",
        "    ComboSum = sum([ ProductList[i] for i in ComboList])\n",
        "\n",
        "    if ComboSum>= LB and ComboSum<= UB:\n",
        "      if tuple(ComboList) not in ResultList:\n",
        "        ResultList.add(tuple(ComboList))\n",
        "\n",
        "for r in ResultList:\n",
        "\tprint (r,\" ->\",sum([ ProductList[i] for i in set(r)]))\n",
        "print (\"\\nTotal Sets: \", len(ResultList), \"\\n\")"
      ]
    }
  ]
}